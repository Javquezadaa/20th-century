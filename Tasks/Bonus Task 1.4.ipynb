{
 "cells": [
  {
   "cell_type": "code",
   "execution_count": 1,
   "id": "82eae90b",
   "metadata": {},
   "outputs": [],
   "source": [
    "## Importing libraries\n",
    "import time\n",
    "import pandas as pd\n",
    "from selenium import webdriver\n",
    "from selenium.webdriver.chrome.service import Service\n",
    "from selenium.webdriver.chrome.options import Options\n",
    "from selenium.webdriver.common.by import By\n",
    "import os"
   ]
  },
  {
   "cell_type": "code",
   "execution_count": 4,
   "id": "39c9187c",
   "metadata": {},
   "outputs": [],
   "source": [
    "# -----------------------\n",
    "# SET UP CHROME OPTIONS\n",
    "# -----------------------\n",
    "chrome_options = Options()\n",
    "chrome_options.add_argument(\"--ignore-certificate-errors\")  # ignore HTTPS warnings\n",
    "chrome_options.add_argument(\"--ignore-ssl-errors\")          # ignore SSL errors\n",
    "chrome_options.add_argument(\"--headless\")                   # run Chrome in the background (optional)\n",
    "chrome_options.add_argument(\"--disable-gpu\")\n",
    "chrome_options.add_argument(\"--no-sandbox\")"
   ]
  },
  {
   "cell_type": "code",
   "execution_count": 5,
   "id": "05084c48",
   "metadata": {},
   "outputs": [],
   "source": [
    "chromedriver_path = \"/Users/javieraquezada/Downloads/chromedriver\"  \n",
    "service = Service(chromedriver_path)\n",
    "driver = webdriver.Chrome(service=service, options=chrome_options)"
   ]
  },
  {
   "cell_type": "code",
   "execution_count": 6,
   "id": "80439e18",
   "metadata": {},
   "outputs": [],
   "source": [
    "# -----------------------\n",
    "# LAUNCH CHROME\n",
    "# -----------------------\n",
    "driver = webdriver.Chrome(service=service, options=chrome_options)"
   ]
  },
  {
   "cell_type": "code",
   "execution_count": 7,
   "id": "61d068c6",
   "metadata": {},
   "outputs": [],
   "source": [
    "# -----------------------\n",
    "# OPEN THE PAGE\n",
    "# -----------------------\n",
    "page_url = \"https://simple.m.wikipedia.org/wiki/List_of_countries\"\n",
    "driver.get(page_url)\n",
    "time.sleep(2)  # give page time to load"
   ]
  },
  {
   "cell_type": "code",
   "execution_count": 10,
   "id": "6ff9dc60",
   "metadata": {},
   "outputs": [
    {
     "name": "stdout",
     "output_type": "stream",
     "text": [
      "Empty DataFrame\n",
      "Columns: [Country]\n",
      "Index: []\n",
      "Total countries scraped: 0\n"
     ]
    }
   ],
   "source": [
    "# -----------------------\n",
    "# SCRAPE COUNTRY LIST (corrected selector)\n",
    "# -----------------------\n",
    "sections = driver.find_elements(By.CSS_SELECTOR, \"div.div-col > ul\")\n",
    "\n",
    "country_list = []\n",
    "\n",
    "for sec in sections:\n",
    "    items = sec.find_elements(By.TAG_NAME, \"li\")\n",
    "    for item in items:\n",
    "        country_list.append(item.text)\n",
    "\n",
    "# -----------------------\n",
    "# SAVE TO DATAFRAME & CSV\n",
    "# -----------------------\n",
    "df = pd.DataFrame(country_list, columns=[\"Country\"])\n",
    "print(df.head())  # preview first few countries\n",
    "print(f\"Total countries scraped: {len(df)}\")\n",
    "\n",
    "df.to_csv(\"country_list.csv\", index=False)"
   ]
  },
  {
   "cell_type": "code",
   "execution_count": 12,
   "id": "130564af",
   "metadata": {},
   "outputs": [
    {
     "name": "stdout",
     "output_type": "stream",
     "text": [
      "Empty DataFrame\n",
      "Columns: [Country]\n",
      "Index: []\n",
      "Total countries scraped: 0\n"
     ]
    }
   ],
   "source": [
    "import requests\n",
    "from bs4 import BeautifulSoup\n",
    "import pandas as pd\n",
    "\n",
    "# Get the page\n",
    "url = \"https://simple.m.wikipedia.org/wiki/List_of_countries\"\n",
    "response = requests.get(url)\n",
    "soup = BeautifulSoup(response.text, \"html.parser\")\n",
    "\n",
    "# Find the main content div\n",
    "content_div = soup.find(\"div\", class_=\"mw-parser-output\")\n",
    "\n",
    "# Get all direct <ul> children that contain the country lists\n",
    "country_list = []\n",
    "for ul in content_div.find_all(\"ul\", recursive=False):\n",
    "    for li in ul.find_all(\"li\"):\n",
    "        country_list.append(li.get_text())\n",
    "\n",
    "# Create DataFrame\n",
    "df = pd.DataFrame(country_list, columns=[\"Country\"])\n",
    "print(df.head())\n",
    "print(f\"Total countries scraped: {len(df)}\")\n",
    "\n",
    "# Save to CSV\n",
    "df.to_csv(\"country_list.csv\", index=False)"
   ]
  },
  {
   "cell_type": "code",
   "execution_count": 15,
   "id": "03595b23",
   "metadata": {},
   "outputs": [
    {
     "name": "stdout",
     "output_type": "stream",
     "text": [
      "                                             Country\n",
      "0  1 Countries\\n\\n1.1 A\\n1.2 B\\n1.3 C\\n1.4 D\\n1.5...\n",
      "1                                              1.1 A\n",
      "2                                              1.2 B\n",
      "3                                              1.3 C\n",
      "4                                              1.4 D\n",
      "Total countries scraped: 86\n"
     ]
    }
   ],
   "source": [
    "#Fixing the problem\n",
    "import requests\n",
    "from bs4 import BeautifulSoup\n",
    "import pandas as pd\n",
    "\n",
    "# Get the page\n",
    "url = \"https://simple.m.wikipedia.org/wiki/List_of_countries\"\n",
    "response = requests.get(url)\n",
    "soup = BeautifulSoup(response.text, \"html.parser\")\n",
    "\n",
    "# All <ul> elements inside the main content div\n",
    "content_div = soup.find(\"div\", class_=\"mw-parser-output\")\n",
    "uls = content_div.find_all(\"ul\")\n",
    "\n",
    "# Extract all <li> text\n",
    "countries = []\n",
    "for ul in uls:\n",
    "    for li in ul.find_all(\"li\"):\n",
    "        countries.append(li.get_text().strip())\n",
    "\n",
    "# Remove any empty strings or notes\n",
    "countries = [c for c in countries if c]\n",
    "\n",
    "# Make DataFrame\n",
    "df = pd.DataFrame(countries, columns=[\"Country\"])\n",
    "print(df.head())\n",
    "print(f\"Total countries scraped: {len(df)}\")\n",
    "\n",
    "# Save to CSV\n",
    "df.to_csv(\"country_list.csv\", index=False)"
   ]
  },
  {
   "cell_type": "code",
   "execution_count": 1,
   "id": "5eb4fe6a",
   "metadata": {},
   "outputs": [
    {
     "ename": "NameError",
     "evalue": "name 'driver' is not defined",
     "output_type": "error",
     "traceback": [
      "\u001b[0;31m---------------------------------------------------------------------------\u001b[0m",
      "\u001b[0;31mNameError\u001b[0m                                 Traceback (most recent call last)",
      "Cell \u001b[0;32mIn[1], line 3\u001b[0m\n\u001b[1;32m      1\u001b[0m \u001b[38;5;66;03m# Closing the browser\u001b[39;00m\n\u001b[0;32m----> 3\u001b[0m \u001b[43mdriver\u001b[49m\u001b[38;5;241m.\u001b[39mquit()\n",
      "\u001b[0;31mNameError\u001b[0m: name 'driver' is not defined"
     ]
    }
   ],
   "source": [
    "# Closing the browser\n",
    "\n",
    "driver.quit()"
   ]
  },
  {
   "cell_type": "code",
   "execution_count": 2,
   "id": "f917a684",
   "metadata": {},
   "outputs": [],
   "source": [
    "if 'driver' in globals():\n",
    "    driver.quit()"
   ]
  },
  {
   "cell_type": "code",
   "execution_count": null,
   "id": "12ec9e64",
   "metadata": {},
   "outputs": [],
   "source": []
  }
 ],
 "metadata": {
  "kernelspec": {
   "display_name": "venv_1.4",
   "language": "python",
   "name": "python3"
  },
  "language_info": {
   "codemirror_mode": {
    "name": "ipython",
    "version": 3
   },
   "file_extension": ".py",
   "mimetype": "text/x-python",
   "name": "python",
   "nbconvert_exporter": "python",
   "pygments_lexer": "ipython3",
   "version": "3.9.23"
  }
 },
 "nbformat": 4,
 "nbformat_minor": 5
}
