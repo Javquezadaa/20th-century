import pandas as pd

# Create a simple DataFrame with numbers and text
data = {
    'numbers': [10, 20, 30, 40, 50],
    'fruits': ['apple', 'banana', 'cherry', 'date', 'elderberry']
}

df = pd.DataFrame(data)
df



# Creating column using a lambda function
df['doubled'] = df['numbers'].apply(lambda x: x * 2)
df



