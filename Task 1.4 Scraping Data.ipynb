{
 "cells": [
  {
   "cell_type": "code",
   "execution_count": null,
   "id": "41ae0bc0",
   "metadata": {},
   "outputs": [
    {
     "name": "stdout",
     "output_type": "stream",
     "text": [
      "Scraped content saved to 20th_century_events.txt\n",
      "Headlines saved to 20th_century_headlines.csv\n"
     ]
    }
   ],
   "source": [
    "\n",
    "# Importing libraries\n",
    "\n",
    "import pandas as pd\n",
    "import time\n",
    "from selenium import webdriver\n",
    "from selenium.webdriver.common.by import By\n",
    "from selenium.webdriver.chrome.service import Service\n",
    "from selenium.webdriver.chrome.options import Options\n",
    "from bs4 import BeautifulSoup\n",
    "import os\n",
    "\n",
    "\n",
    "# ChromeDriver setup\n",
    "\n",
    "chromedriver_path = \"/Users/javieraquezada/Downloads/chromedriver\"  # path to my downloaded driver\n",
    "service = Service(chromedriver_path)\n",
    "\n",
    "chrome_options = Options()\n",
    "# chrome_options.add_argument(\"--headless\")  # Uncomment when I don't want to see the browser\n",
    "chrome_options.add_argument(\"--no-sandbox\")\n",
    "chrome_options.add_argument(\"--disable-dev-shm-usage\")\n",
    "\n",
    "driver = webdriver.Chrome(service=service, options=chrome_options)\n",
    "\n",
    "\n",
    "# Opening Wikipedia page\n",
    "\n",
    "page_url = \"https://en.wikipedia.org/wiki/Key_events_of_the_20th_century\"\n",
    "driver.get(page_url)\n",
    "time.sleep(3)  # wait for page to fully load\n",
    "\n",
    "\n",
    "# Scraping the content\n",
    "\n",
    "page_source = driver.page_source\n",
    "soup = BeautifulSoup(page_source, 'html.parser')\n",
    "\n",
    "# Getting all text in the page\n",
    "all_text = soup.get_text(separator=\"\\n\", strip=True)\n",
    "\n",
    "\n",
    "# Saving to .txt file\n",
    "\n",
    "output_file = \"20th_century_events.txt\"\n",
    "with open(output_file, \"w\", encoding=\"utf-8\") as f:\n",
    "    f.write(all_text)\n",
    "\n",
    "print(f\"Scraped content saved to {output_file}\")\n",
    "\n",
    "# Optional: Extracting headlines (like section titles) into a DataFrame\n",
    "\n",
    "headlines = [h.text for h in soup.find_all(['h2', 'h3'])]\n",
    "df = pd.DataFrame(headlines, columns=[\"Section_Title\"])\n",
    "df.to_csv(\"20th_century_headlines.csv\", index=False)\n",
    "print(\"Headlines saved to 20th_century_headlines.csv\")\n",
    "\n",
    "# Closing the browser\n",
    "\n",
    "driver.quit()\n"
   ]
  },
  {
   "cell_type": "code",
   "execution_count": null,
   "id": "7b9e3f1e",
   "metadata": {},
   "outputs": [
    {
     "ename": "NameError",
     "evalue": "name 'df' is not defined",
     "output_type": "error",
     "traceback": [
      "\u001b[0;31m---------------------------------------------------------------------------\u001b[0m",
      "\u001b[0;31mNameError\u001b[0m                                 Traceback (most recent call last)",
      "Cell \u001b[0;32mIn[2], line 1\u001b[0m\n\u001b[0;32m----> 1\u001b[0m \u001b[43mdf\u001b[49m\n",
      "\u001b[0;31mNameError\u001b[0m: name 'df' is not defined"
     ]
    }
   ],
   "source": []
  },
  {
   "cell_type": "code",
   "execution_count": null,
   "id": "c4f61cba",
   "metadata": {},
   "outputs": [],
   "source": []
  }
 ],
 "metadata": {
  "kernelspec": {
   "display_name": "venv_1.4",
   "language": "python",
   "name": "python3"
  },
  "language_info": {
   "codemirror_mode": {
    "name": "ipython",
    "version": 3
   },
   "file_extension": ".py",
   "mimetype": "text/x-python",
   "name": "python",
   "nbconvert_exporter": "python",
   "pygments_lexer": "ipython3",
   "version": "3.9.23"
  }
 },
 "nbformat": 4,
 "nbformat_minor": 5
}
